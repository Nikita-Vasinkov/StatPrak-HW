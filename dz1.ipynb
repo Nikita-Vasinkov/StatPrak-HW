{
  "nbformat": 4,
  "nbformat_minor": 0,
  "metadata": {
    "colab": {
      "provenance": [],
      "authorship_tag": "ABX9TyPFbkpeRNrjBLJuB9o/Czu2",
      "include_colab_link": true
    },
    "kernelspec": {
      "name": "python3",
      "display_name": "Python 3"
    },
    "language_info": {
      "name": "python"
    }
  },
  "cells": [
    {
      "cell_type": "markdown",
      "metadata": {
        "id": "view-in-github",
        "colab_type": "text"
      },
      "source": [
        "<a href=\"https://colab.research.google.com/github/Nikita-Vasinkov/StatPrak-HW/blob/master/dz1.ipynb\" target=\"_parent\"><img src=\"https://colab.research.google.com/assets/colab-badge.svg\" alt=\"Open In Colab\"/></a>"
      ]
    },
    {
      "cell_type": "code",
      "execution_count": 86,
      "metadata": {
        "id": "i463-uEBYifV",
        "outputId": "1a610224-f568-47fc-870d-70d78566b083",
        "colab": {
          "base_uri": "https://localhost:8080/"
        }
      },
      "outputs": [
        {
          "output_type": "stream",
          "name": "stdout",
          "text": [
            "[4, 2, 3]\n"
          ]
        }
      ],
      "source": [
        "a = [1, 2, 3]\n",
        "b = a\n",
        "a[0] = 4\n",
        "print(b)"
      ]
    },
    {
      "cell_type": "markdown",
      "metadata": {
        "id": "xw8BD8v2oBGj"
      },
      "source": [
        "# Homework"
      ]
    },
    {
      "cell_type": "markdown",
      "metadata": {
        "id": "sSos7q2_oBGj"
      },
      "source": [
        "## Problem 1"
      ]
    },
    {
      "cell_type": "markdown",
      "metadata": {
        "id": "NiX8ePp0oBGk"
      },
      "source": [
        "Make a tuple containing natural numbers, the square of which is a multiple of 3, 4, but not a multiple of 8 and not exceeding 12345."
      ]
    },
    {
      "cell_type": "code",
      "execution_count": 5,
      "metadata": {
        "id": "XmPHEnS9oBGk",
        "outputId": "8524f916-8428-4530-df24-95a1660d384d",
        "colab": {
          "base_uri": "https://localhost:8080/"
        }
      },
      "outputs": [
        {
          "output_type": "stream",
          "name": "stdout",
          "text": [
            "(6, 18, 30, 42, 54, 66, 78, 90, 102)\n"
          ]
        }
      ],
      "source": [
        "# Your solution here\n",
        "tmp = []\n",
        "i=1\n",
        "\n",
        "while i*i < 12345:\n",
        "  if i*i % 12 == 0 and i*i%8 != 0 :\n",
        "    tmp.append(i)\n",
        "  i += 1\n",
        "\n",
        "res = tuple(tmp)\n",
        "print(res)"
      ]
    },
    {
      "cell_type": "markdown",
      "metadata": {
        "id": "OZBeUyxcoBGk"
      },
      "source": [
        "## Problem 2"
      ]
    },
    {
      "cell_type": "markdown",
      "metadata": {
        "id": "zIfvg22noBGk"
      },
      "source": [
        "\n",
        "Write a function that takes a two-dimensional array and a string as input and returns an array rotated 90 degrees counterclockwise if the string 'left' was passed, and clockwise if the string 'right' was passed.\n",
        "\n",
        "Example for input: $\\begin{bmatrix} 1 & 2 & 3 \\\\ 4 & 5 & 6 \\\\ 7 & 8 & 9 \\end{bmatrix}$.\\\n",
        "If the string 'left' is passed, the function should return $\\begin{bmatrix} 3 & 6 & 9 \\\\ 2 & 5 & 8 \\\\ 1 & 4 & 7 \\end{bmatrix}$, and if the string 'right' is passed, the function should return $\\begin{bmatrix} 7 & 4 & 1 \\\\ 8 & 5 & 2 \\\\ 9 & 6 & 3 \\end{bmatrix}$."
      ]
    },
    {
      "cell_type": "code",
      "execution_count": 78,
      "metadata": {
        "id": "HNvy_cRjoBGk",
        "outputId": "7a75a480-007b-4b77-dc70-6765f610dd32",
        "colab": {
          "base_uri": "https://localhost:8080/"
        }
      },
      "outputs": [
        {
          "output_type": "stream",
          "name": "stdout",
          "text": [
            "Введите слово(left/right): right\n",
            "Исходная матрица\n",
            "[1, 2, 3]\n",
            "[4, 5, 6]\n",
            "[7, 8, 9]\n",
            "Матрица после поворота\n",
            "[7, 4, 1]\n",
            "[8, 5, 2]\n",
            "[9, 6, 3]\n"
          ]
        }
      ],
      "source": [
        "def rotation(matrix, word):\n",
        "    if word == \"left\":\n",
        "        rotated_matrix = []\n",
        "\n",
        "        for i in range(len(matrix[0])):\n",
        "            row = []\n",
        "            for j in range(len(matrix)):\n",
        "                row.append(matrix[i][j])\n",
        "            row.reverse()\n",
        "            rotated_matrix.append(row)\n",
        "\n",
        "        rotated_matrix = list(zip(*rotated_matrix))\n",
        "        return rotated_matrix\n",
        "\n",
        "    elif word == \"right\":\n",
        "        rotated_matrix = []\n",
        "\n",
        "        for i in range(len(matrix[0])):\n",
        "            row = []\n",
        "            for j in range(len(matrix)):\n",
        "                row.append(matrix[j][i])\n",
        "            row.reverse()\n",
        "            rotated_matrix.append(row)\n",
        "\n",
        "        return rotated_matrix\n",
        "\n",
        "n = 1\n",
        "\n",
        "matrix = []\n",
        "\n",
        "for i in range(3):\n",
        "    row = []\n",
        "    for j in range(3):\n",
        "        row.append(n)\n",
        "        n += 1\n",
        "    matrix.append(row)\n",
        "\n",
        "word = input(\"Введите слово(left/right): \")\n",
        "\n",
        "print(\"Исходная матрица\")\n",
        "for row in matrix:\n",
        "    print(row)\n",
        "if word == \"left\" or word == \"right\":\n",
        "    matrix = rotation(matrix, word)\n",
        "else:\n",
        "    raise ValueError(\"Ошибка: нужно ввести 'left' или 'right'\")\n",
        "print(\"Матрица после поворота\")\n",
        "for row in matrix:\n",
        "    print(row)\n"
      ]
    },
    {
      "cell_type": "markdown",
      "metadata": {
        "id": "_dY-PFlCoBGk"
      },
      "source": [
        "## Problem 3"
      ]
    },
    {
      "cell_type": "markdown",
      "metadata": {
        "id": "3CaIwcm0oBGk"
      },
      "source": [
        "Write a function that takes a string as input and returns a dictionary containing the number of occurrences of each character in the string.\n",
        "\n",
        "Example for the string 'hello, world!': {'h': 1, 'e': 1, 'l': 3, 'o': 2, ',': 1, ' ': 1, 'w': 1, 'r': 1, 'd': 1, '!': 1}."
      ]
    },
    {
      "cell_type": "code",
      "execution_count": 82,
      "metadata": {
        "id": "rlSbHusZoBGk",
        "outputId": "07a1ceeb-2d5d-4ffb-c9da-5459d9580532",
        "colab": {
          "base_uri": "https://localhost:8080/"
        }
      },
      "outputs": [
        {
          "output_type": "stream",
          "name": "stdout",
          "text": [
            "{'s': 1, 't': 1, 'o': 1, 'p': 3, 'a': 2, 'u': 1}\n"
          ]
        }
      ],
      "source": [
        "# Your solution here\n",
        "def count_char(tmp):\n",
        "    char_count = {}\n",
        "\n",
        "    for char in tmp:\n",
        "        if char in char_count:\n",
        "            char_count[char] += 1\n",
        "        else:\n",
        "            char_count[char] = 1\n",
        "\n",
        "    return char_count\n",
        "\n",
        "tmp = 'stopapupa'\n",
        "result = count_char(tmp)\n",
        "print(result)"
      ]
    },
    {
      "cell_type": "markdown",
      "metadata": {
        "id": "KBGJ7PeboBGk"
      },
      "source": [
        "## Problem 4"
      ]
    },
    {
      "cell_type": "markdown",
      "metadata": {
        "id": "XS4Seqa9oBGk"
      },
      "source": [
        "### Implementing a Library Management System\n",
        "\n",
        "#### Description\n",
        "\n",
        "You are required to design and implement a system for managing books and users in a library. The system should allow for the management of books (adding, deleting, searching by various criteria) and users (registration, deletion, searching), as well as tracking the history of interactions between them (issuing and returning books).\n",
        "\n",
        "#### Tasks\n",
        "\n",
        "1. **`Book` Class**:\n",
        "   - Attributes: title, author, year of publication, ISBN, number of copies.\n",
        "   - Methods: constructor, methods to get information about the book, method to change the number of copies (when issuing and returning books).\n",
        "\n",
        "2. **`User` Class**:\n",
        "   - Attributes: user name, library card number, list of borrowed books.\n",
        "   - Methods: constructor, methods for user registration, methods for adding and removing books from the borrowed list.\n",
        "\n",
        "3. **`Library` Class**:\n",
        "   - Attributes: list of books, list of users, transaction history (who, when, which book was borrowed and returned).\n",
        "   - Methods: constructor, methods for adding and deleting books and users, methods for issuing and returning books, searching for books and users by various criteria, method to display the transaction history.\n",
        "\n",
        "#### Assignment\n",
        "\n",
        "1. Implement the `Book`, `User`, and `Library` classes with the specified attributes and methods.\n",
        "2. Create several books and users, and add them to the library system.\n",
        "3. Implement scenarios for issuing books to users and their return.\n",
        "4. Display the transaction history to show how books were issued and returned.\n"
      ]
    },
    {
      "cell_type": "code",
      "execution_count": 85,
      "metadata": {
        "id": "IbqwtWWsoBGl",
        "outputId": "bc6a25ea-23d4-4ba6-ebd3-a5a1f672963f",
        "colab": {
          "base_uri": "https://localhost:8080/"
        }
      },
      "outputs": [
        {
          "output_type": "stream",
          "name": "stdout",
          "text": [
            "\n",
            "История транзакций:\n",
            "Никита взял книгу 'Курс алгебры' 2025-02-16 19:13:16.\n",
            "Юра взял книгу 'Математический анализ' 2025-02-16 19:13:16.\n",
            "\n",
            "История транзакций после возврата:\n",
            "Никита взял книгу 'Курс алгебры' 2025-02-16 19:13:16.\n",
            "Юра взял книгу 'Математический анализ' 2025-02-16 19:13:16.\n",
            "Никита вернул книгу 'Курс алгебры' 2025-02-16 19:13:16.\n",
            "\n",
            "Поиск книги 'Курс алгебры':\n",
            "[{'Title': 'Курс алгебры', 'Author': 'Винберг', 'Year': 2017, 'ISBN': '138235365', 'Copies': 5}]\n",
            "\n",
            "Поиск пользователя 'Юра':\n",
            "[{'Name': 'Юра', 'Card Number': 'U002', 'Borrowed Books': ['Математический анализ']}]\n"
          ]
        }
      ],
      "source": [
        "# Your solution here\n",
        "\n",
        "class Book:\n",
        "    def __init__(self, title, author, year, isbn, copies):\n",
        "        self.title = title\n",
        "        self.author = author\n",
        "        self.year = year\n",
        "        self.isbn = isbn\n",
        "        self.copies = copies\n",
        "\n",
        "    def get_info(self):\n",
        "        return {\n",
        "            'Title': self.title,\n",
        "            'Author': self.author,\n",
        "            'Year': self.year,\n",
        "            'ISBN': self.isbn,\n",
        "            'Copies': self.copies\n",
        "        }\n",
        "\n",
        "    def update_copies(self, change):\n",
        "        self.copies += change #отрицательное число для выдачи, положительное для возврата\n",
        "\n",
        "class User:\n",
        "    def __init__(self, name, card_number):\n",
        "        self.name = name\n",
        "        self.card_number = card_number\n",
        "        self.borrowed_books = []\n",
        "\n",
        "    def register(self):\n",
        "        return f\"Пользователь {self.name} с номером билета {self.card_number} зарегистрирован.\"\n",
        "\n",
        "    def borrow_book(self, book):\n",
        "        self.borrowed_books.append(book)\n",
        "\n",
        "    def return_book(self, book):\n",
        "        if book in self.borrowed_books:\n",
        "            self.borrowed_books.remove(book)\n",
        "\n",
        "    def get_info(self):\n",
        "        return {\n",
        "            'Name': self.name,\n",
        "            'Card Number': self.card_number,\n",
        "            'Borrowed Books': [book.title for book in self.borrowed_books]\n",
        "        }\n",
        "\n",
        "class Library:\n",
        "    def __init__(self):\n",
        "        self.books = []\n",
        "        self.users = []\n",
        "        self.transaction_history = []\n",
        "\n",
        "    def add_book(self, book):\n",
        "        self.books.append(book)\n",
        "\n",
        "    def delete_book(self, isbn):\n",
        "        for book in self.books:\n",
        "            if book.isbn == isbn:\n",
        "                self.books.remove(book)\n",
        "                break\n",
        "\n",
        "    def add_user(self, user):\n",
        "        self.users.append(user)\n",
        "\n",
        "    def delete_user(self, card_number):\n",
        "        for user in self.users:\n",
        "            if user.card_number == card_number:\n",
        "                self.users.remove(user)\n",
        "                break\n",
        "\n",
        "    def search_book_by_title(self, title):\n",
        "        return [book.get_info() for book in self.books if title.lower() in book.title.lower()]\n",
        "\n",
        "    def search_user_by_name(self, name):\n",
        "        return [user.get_info() for user in self.users if name.lower() in user.name.lower()]\n",
        "\n",
        "    def issue_book(self, user, book):\n",
        "        if book.copies > 0:\n",
        "            user.borrow_book(book)\n",
        "            book.update_copies(-1)\n",
        "            self.transaction_history.append(f\"{user.name} взял книгу '{book.title}' {self.get_current_date()}.\")\n",
        "        else:\n",
        "            return \"Книги нет в наличии.\"\n",
        "\n",
        "    def return_book(self, user, book):\n",
        "        if book in user.borrowed_books:\n",
        "            user.return_book(book)\n",
        "            book.update_copies(1)\n",
        "            self.transaction_history.append(f\"{user.name} вернул книгу '{book.title}' {self.get_current_date()}.\")\n",
        "        else:\n",
        "            return f\"{user.name} не брал эту книгу.\"\n",
        "\n",
        "    def display_transaction_history(self):\n",
        "        for transaction in self.transaction_history:\n",
        "            print(transaction)\n",
        "\n",
        "    def get_current_date(self):\n",
        "        from datetime import datetime\n",
        "        return datetime.now().strftime(\"%Y-%m-%d %H:%M:%S\")\n",
        "\n",
        "\n",
        "\n",
        "\n",
        "\n",
        "library = Library()\n",
        "\n",
        "book1 = Book(\"Курс алгебры\", \"Винберг\", 2017, \"138235365\", 5)\n",
        "book2 = Book(\"Математический анализ\", \"Зорич\", 2021, \"343306911\", 3)\n",
        "\n",
        "library.add_book(book1)\n",
        "library.add_book(book2)\n",
        "\n",
        "user1 = User(\"Никита\", \"U001\")\n",
        "user2 = User(\"Юра\", \"U002\")\n",
        "\n",
        "library.add_user(user1)\n",
        "library.add_user(user2)\n",
        "\n",
        "library.issue_book(user1, book1)\n",
        "library.issue_book(user2, book2)\n",
        "\n",
        "print(\"\\nИстория транзакций:\")\n",
        "library.display_transaction_history()\n",
        "\n",
        "library.return_book(user1, book1)\n",
        "\n",
        "print(\"\\nИстория транзакций после возврата:\")\n",
        "library.display_transaction_history()\n",
        "\n",
        "print(\"\\nПоиск книги 'Курс алгебры':\")\n",
        "print(library.search_book_by_title('Курс алгебры'))\n",
        "\n",
        "print(\"\\nПоиск пользователя 'Юра':\")\n",
        "print(library.search_user_by_name('Юра'))\n",
        "\n"
      ]
    },
    {
      "cell_type": "markdown",
      "metadata": {
        "id": "0c8zRbSIoBGl"
      },
      "source": [
        "## Problem 5*"
      ]
    },
    {
      "cell_type": "markdown",
      "metadata": {
        "id": "8ltdzRmOoBGl"
      },
      "source": [
        "Explain why list `b` changes after the execution of the following code:\n",
        "\n",
        "```python\n",
        "a = [1, 2, 3]\n",
        "b = a\n",
        "a[0] = 4\n",
        "print(b)\n",
        "```\n",
        "\n",
        "#Cписок храниться ввиде указателя(на первый элемент), когда пишем b = a, то b становиться таким же указателем(т.е показывает где в памяти компьютера храниться данный список) а не самим списоком. А изменения происходят у самого списка, но указатель не меняется, поэтому такой ответ"
      ]
    },
    {
      "cell_type": "markdown",
      "metadata": {
        "id": "RxgnUfFPoBGl"
      },
      "source": [
        "> Write your answer in markdown cell after:"
      ]
    },
    {
      "cell_type": "markdown",
      "metadata": {
        "id": "Mb-amOX5oBGl"
      },
      "source": []
    },
    {
      "cell_type": "markdown",
      "metadata": {
        "id": "TmXLkc_foBGl"
      },
      "source": [
        "## Problem 6*"
      ]
    },
    {
      "cell_type": "markdown",
      "metadata": {
        "id": "Gn0ibiVCoBGl"
      },
      "source": [
        "Let\n",
        "$$A = \\sum_{i=1}^{10000} \\frac{1}{i^2},\\quad B=\\sum_{i=10000}^{1} \\frac{1}{i^2}.$$\n",
        "Calculate the values of $A$ and $B$ and compare them. What do you observe? Explain why this happens. What is the best way to calculate the value of $\\sum\\limits_{i=1}^{10000} \\dfrac{1}{i^2}$?"
      ]
    },
    {
      "cell_type": "code",
      "execution_count": 99,
      "metadata": {
        "id": "3q93uGqFoBGl",
        "outputId": "a282abde-b064-4a28-ab9a-e2875700964e",
        "colab": {
          "base_uri": "https://localhost:8080/"
        }
      },
      "outputs": [
        {
          "output_type": "stream",
          "name": "stdout",
          "text": [
            "A= 1.6448340718480652\n",
            "B= 1.64483408184606\n",
            "П^2/6 ~ 1.6449340668482264\n",
            "8.881784197001252e-14 9.998083694284787e-09\n"
          ]
        }
      ],
      "source": [
        "# Your solution here\n",
        "import math\n",
        "\n",
        "i = 1\n",
        "A = 0\n",
        "B = 0\n",
        "while i <= 10000:\n",
        "  A += 1/(i*i)\n",
        "  i += 1\n",
        "while i >= 1:\n",
        "  B += 1/(i*i)\n",
        "  i -= 1\n",
        "\n",
        "\n",
        "print(\"A=\",A)\n",
        "print(\"B=\",B)\n",
        "print(\"П^2/6 ~\", math.pi * math.pi / 6)\n",
        "C = math.pi * math.pi / 6 - 1/(10000+1/2) #оценил хвост\n",
        "print(A - C, B - C)\n",
        "# Считать методом А выгоднее, можно увидеть наглядно выше(т.к погрешность от реальности меньше).\n",
        "# Проблема подсчета при обратном подсчете заключается в том, что начальные слогаемые просто зануляются(т.к слишком малы), а когда к ним прибавляются большие числа, потерянные из-за округления биты не восстанавливаются, следовательно ошибка вычисления накапливается.\n",
        "\n",
        "\n",
        "\n"
      ]
    }
  ]
}